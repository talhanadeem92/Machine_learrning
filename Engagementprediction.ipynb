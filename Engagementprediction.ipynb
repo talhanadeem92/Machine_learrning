{
  "nbformat": 4,
  "nbformat_minor": 0,
  "metadata": {
    "colab": {
      "provenance": []
    },
    "kernelspec": {
      "name": "python3",
      "display_name": "Python 3"
    },
    "language_info": {
      "name": "python"
    }
  },
  "cells": [
    {
      "cell_type": "code",
      "execution_count": 1,
      "metadata": {
        "id": "mE1O0bfS7rKw"
      },
      "outputs": [],
      "source": [
        "import numpy as np\n",
        "import pandas as pd\n",
        "import matplotlib.pyplot as plt"
      ]
    },
    {
      "cell_type": "code",
      "source": [
        "import pandas as pd\n",
        "import matplotlib.pyplot as plt\n",
        "%matplotlib inline\n",
        "from sklearn import preprocessing\n",
        "from sklearn.model_selection import train_test_split\n",
        "from sklearn.tree import DecisionTreeClassifier"
      ],
      "metadata": {
        "id": "jBrblfV4-B0b"
      },
      "execution_count": 2,
      "outputs": []
    },
    {
      "cell_type": "code",
      "source": [],
      "metadata": {
        "id": "Ua4eSv-F-Dj9"
      },
      "execution_count": null,
      "outputs": []
    },
    {
      "cell_type": "code",
      "source": [
        "df = pd.read_csv('/content/chatgpt11.csv')"
      ],
      "metadata": {
        "id": "GPzFrM_r9lR6"
      },
      "execution_count": 3,
      "outputs": []
    },
    {
      "cell_type": "code",
      "source": [
        "from sklearn.neighbors import KNeighborsRegressor\n",
        "from sklearn.naive_bayes import GaussianNB\n",
        "from sklearn.ensemble import RandomForestRegressor\n",
        "from sklearn.tree import DecisionTreeRegressor\n",
        "from sklearn.cluster import KMeans"
      ],
      "metadata": {
        "id": "S7yhIgS59s48"
      },
      "execution_count": 4,
      "outputs": []
    },
    {
      "cell_type": "code",
      "source": [
        "le = preprocessing.LabelEncoder()"
      ],
      "metadata": {
        "id": "px1JVdWI9yan"
      },
      "execution_count": null,
      "outputs": []
    },
    {
      "cell_type": "code",
      "source": [
        "for i in df.columns:\n",
        "\n",
        "    df[i] = le.fit_transform(df[i])"
      ],
      "metadata": {
        "id": "coutKLfU95Pg"
      },
      "execution_count": null,
      "outputs": []
    },
    {
      "cell_type": "code",
      "source": [
        "import pandas as pd\n",
        "data = pd.read_csv('https://tinyurl.com/3eu93hat')\n"
      ],
      "metadata": {
        "id": "RVSu3Zky-EZy"
      },
      "execution_count": null,
      "outputs": []
    },
    {
      "cell_type": "code",
      "source": [
        "# Remove rows with missing values\n",
        "\n",
        "data=df\n",
        "# Remove unnecessary columns\n",
        "data = data[['Text', 'Language', 'RetweetCount', 'LikeCount', 'ReplyCount']]\n",
        "\n",
        "# Convert Language column to categorical data\n",
        "data['Language'] = pd.Categorical(data['Language'])\n",
        "\n",
        "# Convert Retweets, Favorites, and Replies columns to integer data type\n",
        "data['RetweetCount'] = data['RetweetCount'].astype(int)\n",
        "data['LikeCount'] = data['LikeCount'].astype(int)\n",
        "data['ReplyCount'] = data['ReplyCount'].astype(int)\n"
      ],
      "metadata": {
        "colab": {
          "base_uri": "https://localhost:8080/"
        },
        "id": "DxZ9b5yR_XYO",
        "outputId": "ca381069-d077-4876-ae27-055b7e767eed"
      },
      "execution_count": 7,
      "outputs": [
        {
          "output_type": "stream",
          "name": "stderr",
          "text": [
            "<ipython-input-7-a7c3347446cd>:8: SettingWithCopyWarning: \n",
            "A value is trying to be set on a copy of a slice from a DataFrame.\n",
            "Try using .loc[row_indexer,col_indexer] = value instead\n",
            "\n",
            "See the caveats in the documentation: https://pandas.pydata.org/pandas-docs/stable/user_guide/indexing.html#returning-a-view-versus-a-copy\n",
            "  data['Language'] = pd.Categorical(data['Language'])\n",
            "<ipython-input-7-a7c3347446cd>:11: SettingWithCopyWarning: \n",
            "A value is trying to be set on a copy of a slice from a DataFrame.\n",
            "Try using .loc[row_indexer,col_indexer] = value instead\n",
            "\n",
            "See the caveats in the documentation: https://pandas.pydata.org/pandas-docs/stable/user_guide/indexing.html#returning-a-view-versus-a-copy\n",
            "  data['RetweetCount'] = data['RetweetCount'].astype(int)\n",
            "<ipython-input-7-a7c3347446cd>:12: SettingWithCopyWarning: \n",
            "A value is trying to be set on a copy of a slice from a DataFrame.\n",
            "Try using .loc[row_indexer,col_indexer] = value instead\n",
            "\n",
            "See the caveats in the documentation: https://pandas.pydata.org/pandas-docs/stable/user_guide/indexing.html#returning-a-view-versus-a-copy\n",
            "  data['LikeCount'] = data['LikeCount'].astype(int)\n",
            "<ipython-input-7-a7c3347446cd>:13: SettingWithCopyWarning: \n",
            "A value is trying to be set on a copy of a slice from a DataFrame.\n",
            "Try using .loc[row_indexer,col_indexer] = value instead\n",
            "\n",
            "See the caveats in the documentation: https://pandas.pydata.org/pandas-docs/stable/user_guide/indexing.html#returning-a-view-versus-a-copy\n",
            "  data['ReplyCount'] = data['ReplyCount'].astype(int)\n"
          ]
        }
      ]
    },
    {
      "cell_type": "code",
      "source": [
        "from sklearn.model_selection import train_test_split\n",
        "\n",
        "X = data['Text']\n",
        "y = data[['RetweetCount', 'LikeCount', 'ReplyCount']]\n",
        "\n",
        "X_train, X_test, y_train, y_test = train_test_split(X, y, test_size=0.2, random_state=42)\n"
      ],
      "metadata": {
        "id": "oykFW3gL_eb0"
      },
      "execution_count": 9,
      "outputs": []
    },
    {
      "cell_type": "code",
      "source": [
        "from sklearn.feature_extraction.text import CountVectorizer, TfidfVectorizer\n",
        "\n",
        "# Create a CountVectorizer object\n",
        "vectorizer = CountVectorizer()\n",
        "\n",
        "# Fit and transform the training data\n",
        "X_train_vec = vectorizer.fit_transform(X_train)\n",
        "\n",
        "# Transform the testing data\n",
        "X_test_vec = vectorizer.transform(X_test)\n",
        "\n",
        "# Alternatively, you can use TfidfVectorizer\n",
        "tfidf_vectorizer = TfidfVectorizer()\n",
        "\n",
        "# Fit and transform the training data\n",
        "X_train_vec_tfidf = tfidf_vectorizer.fit_transform(X_train)\n",
        "\n",
        "# Transform the testing data\n",
        "X_test_vec_tfidf = tfidf_vectorizer.transform(X_test)\n"
      ],
      "metadata": {
        "id": "Fsk6GVXE_ovi"
      },
      "execution_count": 10,
      "outputs": []
    },
    {
      "cell_type": "code",
      "source": [
        "from sklearn.tree import DecisionTreeRegressor\n",
        "from sklearn.ensemble import RandomForestRegressor\n",
        "from sklearn.neighbors import KNeighborsRegressor\n",
        "from sklearn.naive_bayes import MultinomialNB\n",
        "\n",
        "# Create decision tree regressor object\n",
        "dt = DecisionTreeRegressor()\n",
        "\n",
        "# Train the model\n",
        "dt.fit(X_train_vec, y_train['RetweetCount'])\n",
        "\n",
        "# Predict on the test data\n",
        "y_pred_dt = dt.predict(X_test_vec)\n",
        "\n",
        "# Similarly, you can create and train the other models\n",
        "rf = RandomForestRegressor()\n",
        "rf.fit(X_train_vec, y_train['RetweetCount'])\n",
        "y_pred_rf = rf.predict(X_test_vec)\n",
        "\n",
        "knn = KNeighborsRegressor()\n",
        "knn.fit(X_train_vec, y_train['RetweetCount'])\n",
        "y_pred_knn = knn.predict(X_test_vec)\n",
        "\n",
        "nb = MultinomialNB()\n",
        "nb.fit(X_train_vec, y_train['RetweetCount'])\n",
        "y_pred_nb = nb.predict(X_test_vec)\n"
      ],
      "metadata": {
        "id": "ePYLrC8s_rcu"
      },
      "execution_count": null,
      "outputs": []
    },
    {
      "cell_type": "code",
      "source": [
        "from sklearn.cluster import KMeans\n",
        "\n",
        "# Create KMeans object\n",
        "kmeans = KMeans(n_clusters=3)\n",
        "\n",
        "# Fit and transform the vectorized data\n",
        "X_vec = vectorizer.fit_transform(X)\n",
        "clusters = kmeans.fit_predict(X_vec)\n"
      ],
      "metadata": {
        "id": "Qg4JAhe1_2Dg"
      },
      "execution_count": null,
      "outputs": []
    },
    {
      "cell_type": "code",
      "source": [],
      "metadata": {
        "id": "laa91Eeb-BLm"
      },
      "execution_count": null,
      "outputs": []
    },
    {
      "cell_type": "code",
      "source": [],
      "metadata": {
        "id": "U3OLkmKy9lbm"
      },
      "execution_count": null,
      "outputs": []
    },
    {
      "cell_type": "code",
      "source": [],
      "metadata": {
        "id": "fDswX5ZB9lfk"
      },
      "execution_count": null,
      "outputs": []
    },
    {
      "cell_type": "code",
      "source": [],
      "metadata": {
        "id": "PJQiVRYv9liq"
      },
      "execution_count": null,
      "outputs": []
    },
    {
      "cell_type": "code",
      "source": [],
      "metadata": {
        "id": "mz3z9o8u9llg"
      },
      "execution_count": null,
      "outputs": []
    }
  ]
}