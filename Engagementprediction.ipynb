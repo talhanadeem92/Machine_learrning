{
  "nbformat": 4,
  "nbformat_minor": 0,
  "metadata": {
    "colab": {
      "provenance": []
    },
    "kernelspec": {
      "name": "python3",
      "display_name": "Python 3"
    },
    "language_info": {
      "name": "python"
    }
  },
  "cells": [
    {
      "cell_type": "code",
      "execution_count": null,
      "metadata": {
        "id": "mE1O0bfS7rKw"
      },
      "outputs": [],
      "source": [
        "import numpy as np\n",
        "import pandas as pd\n",
        "import matplotlib.pyplot as plt"
      ]
    },
    {
      "cell_type": "code",
      "source": [
        "import pandas as pd\n",
        "import matplotlib.pyplot as plt\n",
        "%matplotlib inline\n",
        "from sklearn import preprocessing\n",
        "from sklearn.model_selection import train_test_split\n",
        "from sklearn.tree import DecisionTreeClassifier"
      ],
      "metadata": {
        "id": "jBrblfV4-B0b"
      },
      "execution_count": null,
      "outputs": []
    },
    {
      "cell_type": "code",
      "source": [],
      "metadata": {
        "id": "Ua4eSv-F-Dj9"
      },
      "execution_count": null,
      "outputs": []
    },
    {
      "cell_type": "code",
      "source": [
        "df = pd.read_csv('/content/chatgpt11.csv')"
      ],
      "metadata": {
        "id": "GPzFrM_r9lR6"
      },
      "execution_count": null,
      "outputs": []
    },
    {
      "cell_type": "code",
      "source": [
        "from sklearn.neighbors import KNeighborsRegressor\n",
        "from sklearn.naive_bayes import GaussianNB\n",
        "from sklearn.ensemble import RandomForestRegressor\n",
        "from sklearn.tree import DecisionTreeRegressor\n",
        "from sklearn.cluster import KMeans"
      ],
      "metadata": {
        "id": "S7yhIgS59s48"
      },
      "execution_count": null,
      "outputs": []
    },
    {
      "cell_type": "code",
      "source": [
        "le = preprocessing.LabelEncoder()"
      ],
      "metadata": {
        "id": "px1JVdWI9yan"
      },
      "execution_count": null,
      "outputs": []
    },
    {
      "cell_type": "code",
      "source": [
        "for i in df.columns:\n",
        "\n",
        "    df[i] = le.fit_transform(df[i])"
      ],
      "metadata": {
        "id": "coutKLfU95Pg"
      },
      "execution_count": null,
      "outputs": []
    },
    {
      "cell_type": "code",
      "source": [
        "import pandas as pd\n",
        "data = pd.read_csv('https://tinyurl.com/3eu93hat')\n"
      ],
      "metadata": {
        "id": "RVSu3Zky-EZy"
      },
      "execution_count": null,
      "outputs": []
    },
    {
      "cell_type": "code",
      "source": [
        "# Remove rows with missing values\n",
        "\n",
        "data=df\n",
        "# Remove unnecessary columns\n",
        "data = data[['Text', 'Language', 'RetweetCount', 'LikeCount', 'ReplyCount']]\n",
        "\n",
        "# Convert Language column to categorical data\n",
        "data['Language'] = pd.Categorical(data['Language'])\n",
        "\n",
        "# Convert Retweets, Favorites, and Replies columns to integer data type\n",
        "data['RetweetCount'] = data['RetweetCount'].astype(int)\n",
        "data['LikeCount'] = data['LikeCount'].astype(int)\n",
        "data['ReplyCount'] = data['ReplyCount'].astype(int)\n"
      ],
      "metadata": {
        "colab": {
          "base_uri": "https://localhost:8080/"
        },
        "id": "DxZ9b5yR_XYO",
        "outputId": "ca381069-d077-4876-ae27-055b7e767eed"
      },
      "execution_count": null,
      "outputs": [
        {
          "output_type": "stream",
          "name": "stderr",
          "text": [
            "<ipython-input-7-a7c3347446cd>:8: SettingWithCopyWarning: \n",
            "A value is trying to be set on a copy of a slice from a DataFrame.\n",
            "Try using .loc[row_indexer,col_indexer] = value instead\n",
            "\n",
            "See the caveats in the documentation: https://pandas.pydata.org/pandas-docs/stable/user_guide/indexing.html#returning-a-view-versus-a-copy\n",
            "  data['Language'] = pd.Categorical(data['Language'])\n",
            "<ipython-input-7-a7c3347446cd>:11: SettingWithCopyWarning: \n",
            "A value is trying to be set on a copy of a slice from a DataFrame.\n",
            "Try using .loc[row_indexer,col_indexer] = value instead\n",
            "\n",
            "See the caveats in the documentation: https://pandas.pydata.org/pandas-docs/stable/user_guide/indexing.html#returning-a-view-versus-a-copy\n",
            "  data['RetweetCount'] = data['RetweetCount'].astype(int)\n",
            "<ipython-input-7-a7c3347446cd>:12: SettingWithCopyWarning: \n",
            "A value is trying to be set on a copy of a slice from a DataFrame.\n",
            "Try using .loc[row_indexer,col_indexer] = value instead\n",
            "\n",
            "See the caveats in the documentation: https://pandas.pydata.org/pandas-docs/stable/user_guide/indexing.html#returning-a-view-versus-a-copy\n",
            "  data['LikeCount'] = data['LikeCount'].astype(int)\n",
            "<ipython-input-7-a7c3347446cd>:13: SettingWithCopyWarning: \n",
            "A value is trying to be set on a copy of a slice from a DataFrame.\n",
            "Try using .loc[row_indexer,col_indexer] = value instead\n",
            "\n",
            "See the caveats in the documentation: https://pandas.pydata.org/pandas-docs/stable/user_guide/indexing.html#returning-a-view-versus-a-copy\n",
            "  data['ReplyCount'] = data['ReplyCount'].astype(int)\n"
          ]
        }
      ]
    },
    {
      "cell_type": "code",
      "source": [
        "from sklearn.model_selection import train_test_split\n",
        "\n",
        "X = data['Text']\n",
        "y = data[['RetweetCount', 'LikeCount', 'ReplyCount']]\n",
        "\n",
        "X_train, X_test, y_train, y_test = train_test_split(X, y, test_size=0.2, random_state=42)\n"
      ],
      "metadata": {
        "id": "oykFW3gL_eb0"
      },
      "execution_count": null,
      "outputs": []
    },
    {
      "cell_type": "code",
      "source": [
        "from sklearn.feature_extraction.text import CountVectorizer, TfidfVectorizer\n",
        "\n",
        "# Create a CountVectorizer object\n",
        "vectorizer = CountVectorizer()\n",
        "\n",
        "# Fit and transform the training data\n",
        "X_train_vec = vectorizer.fit_transform(X_train)\n",
        "\n",
        "# Transform the testing data\n",
        "X_test_vec = vectorizer.transform(X_test)\n",
        "\n",
        "# Alternatively, you can use TfidfVectorizer\n",
        "tfidf_vectorizer = TfidfVectorizer()\n",
        "\n",
        "# Fit and transform the training data\n",
        "X_train_vec_tfidf = tfidf_vectorizer.fit_transform(X_train)\n",
        "\n",
        "# Transform the testing data\n",
        "X_test_vec_tfidf = tfidf_vectorizer.transform(X_test)\n"
      ],
      "metadata": {
        "id": "Fsk6GVXE_ovi"
      },
      "execution_count": null,
      "outputs": []
    },
    {
      "cell_type": "code",
      "source": [
        "from sklearn.tree import DecisionTreeRegressor\n",
        "from sklearn.ensemble import RandomForestRegressor\n",
        "from sklearn.neighbors import KNeighborsRegressor\n",
        "from sklearn.naive_bayes import MultinomialNB\n",
        "\n",
        "# Create decision tree regressor object\n",
        "dt = DecisionTreeRegressor()\n",
        "\n",
        "# Train the model\n",
        "dt.fit(X_train_vec, y_train['RetweetCount'])\n",
        "\n",
        "# Predict on the test data\n",
        "y_pred_dt = dt.predict(X_test_vec)\n",
        "\n",
        "# Similarly, you can create and train the other models\n",
        "rf = RandomForestRegressor()\n",
        "rf.fit(X_train_vec, y_train['RetweetCount'])\n",
        "y_pred_rf = rf.predict(X_test_vec)\n",
        "\n",
        "knn = KNeighborsRegressor()\n",
        "knn.fit(X_train_vec, y_train['RetweetCount'])\n",
        "y_pred_knn = knn.predict(X_test_vec)\n",
        "\n",
        "nb = MultinomialNB()\n",
        "nb.fit(X_train_vec, y_train['RetweetCount'])\n",
        "y_pred_nb = nb.predict(X_test_vec)\n"
      ],
      "metadata": {
        "id": "ePYLrC8s_rcu"
      },
      "execution_count": null,
      "outputs": []
    },
    {
      "cell_type": "code",
      "source": [
        "from sklearn.cluster import KMeans\n",
        "\n",
        "# Create KMeans object\n",
        "kmeans = KMeans(n_clusters=3)\n",
        "\n",
        "# Fit and transform the vectorized data\n",
        "X_vec = vectorizer.fit_transform(X)\n",
        "clusters = kmeans.fit_predict(X_vec)\n"
      ],
      "metadata": {
        "id": "Qg4JAhe1_2Dg"
      },
      "execution_count": null,
      "outputs": []
    },
    {
      "cell_type": "code",
      "source": [
        "import pandas as pd\n",
        "from sklearn.feature_extraction.text import TfidfVectorizer\n",
        "from sklearn.model_selection import train_test_split\n",
        "from sklearn.neighbors import KNeighborsRegressor\n",
        "import matplotlib.pyplot as plt\n",
        "\n",
        "# Preprocess the data\n",
        "# Assume `df` is the DataFrame containing the tweet data with relevant columns\n",
        "\n",
        "# Remove duplicates\n",
        "df.drop_duplicates(subset='Text', inplace=True)\n",
        "df.dropna(inplace=True)\n",
        "\n",
        "# Define the feature set and target variables\n",
        "X = df['Text']  # Features: text content of the tweets\n",
        "y_retweets = df['RetweetCount']  # Target variable: number of retweets\n",
        "y_likes = df['LikeCount']  # Target variable: number of likes\n",
        "y_replies = df['ReplyCount']  # Target variable: number of replies\n",
        "\n",
        "# Vectorize the feature data using TF-IDF\n",
        "vectorizer = TfidfVectorizer(stop_words='english')\n",
        "X_tfidf = vectorizer.fit_transform(X)\n",
        "\n",
        "# Split the dataset into training and testing sets\n",
        "X_train, X_test, y_train_retweets, y_test_retweets = train_test_split(X_tfidf, y_retweets, test_size=0.2, random_state=42)\n",
        "_, _, y_train_likes, y_test_likes = train_test_split(X_tfidf, y_likes, test_size=0.2, random_state=42)\n",
        "_, _, y_train_replies, y_test_replies = train_test_split(X_tfidf, y_replies, test_size=0.2, random_state=42)\n",
        "\n",
        "# Train the KNN model for retweets\n",
        "knn_retweets = KNeighborsRegressor(n_neighbors=5)\n",
        "knn_retweets.fit(X_train, y_train_retweets)\n",
        "\n",
        "# Predict on the testing set for retweets\n",
        "y_pred_retweets = knn_retweets.predict(X_test)\n",
        "\n",
        "# Train the KNN model for likes\n",
        "knn_likes = KNeighborsRegressor(n_neighbors=5)\n",
        "knn_likes.fit(X_train, y_train_likes)\n",
        "\n",
        "# Predict on the testing set for likes\n",
        "y_pred_likes = knn_likes.predict(X_test)\n",
        "\n",
        "# Train the KNN model for replies\n",
        "knn_replies = KNeighborsRegressor(n_neighbors=5)\n",
        "knn_replies.fit(X_train, y_train_replies)\n",
        "\n",
        "# Predict on the testing set for replies\n",
        "y_pred_replies = knn_replies.predict(X_test)\n",
        "\n",
        "# Visualize the predictions\n",
        "plt.figure(figsize=(12, 4))\n",
        "\n",
        "# Plot for retweets\n",
        "plt.subplot(131)\n",
        "plt.scatter(y_test_retweets, y_pred_retweets)\n",
        "plt.xlabel('Actual Retweets')\n",
        "plt.ylabel('Predicted Retweets')\n",
        "plt.title('Retweets')\n",
        "\n",
        "# Plot for likes\n",
        "plt.subplot(132)\n",
        "plt.scatter(y_test_likes, y_pred_likes)\n",
        "plt.xlabel('Actual Likes')\n",
        "plt.ylabel('Predicted Likes')\n",
        "plt.title('Likes')\n",
        "\n",
        "# Plot for replies\n",
        "plt.subplot(133)\n",
        "plt.scatter(y_test_replies, y_pred_replies)\n",
        "plt.xlabel('Actual Replies')\n",
        "plt.ylabel('Predicted Replies')\n",
        "plt.title('Replies')\n",
        "\n",
        "plt.tight_layout()\n",
        "plt.show()"
      ],
      "metadata": {
        "id": "laa91Eeb-BLm"
      },
      "execution_count": null,
      "outputs": []
    },
    {
      "cell_type": "code",
      "source": [
        "import pandas as pd\n",
        "from sklearn.feature_extraction.text import TfidfVectorizer\n",
        "from sklearn.model_selection import train_test_split\n",
        "from sklearn.neighbors import KNeighborsRegressor\n",
        "import matplotlib.pyplot as plt\n",
        "\n",
        "# Preprocess the data\n",
        "# Assume `df` is the DataFrame containing the tweet data with relevant columns\n",
        "df = pd.read_csv('/content/chatgpt11.csv')\n",
        "# Remove duplicates\n",
        "df.drop_duplicates(subset='Text', inplace=True)\n",
        "df.dropna(inplace=True)\n",
        "\n",
        "# Define the feature set and target variables\n",
        "X = df['Text']  # Features: text content of the tweets\n",
        "y_retweets = df['RetweetCount']  # Target variable: number of retweets\n",
        "y_likes = df['LikeCount']  # Target variable: number of likes\n",
        "y_replies = df['ReplyCount']  # Target variable: number of replies\n",
        "\n",
        "# Vectorize the feature data using TF-IDF\n",
        "vectorizer = TfidfVectorizer(stop_words='english')\n",
        "X_tfidf = vectorizer.fit_transform(X)\n",
        "\n",
        "# Split the dataset into training and testing sets\n",
        "X_train, X_test, y_train_retweets, y_test_retweets = train_test_split(X_tfidf, y_retweets, test_size=0.2, random_state=42)\n",
        "_, _, y_train_likes, y_test_likes = train_test_split(X_tfidf, y_likes, test_size=0.2, random_state=42)\n",
        "_, _, y_train_replies, y_test_replies = train_test_split(X_tfidf, y_replies, test_size=0.2, random_state=42)\n",
        "\n",
        "# Train the KNN model for retweets\n",
        "knn_retweets = KNeighborsRegressor(n_neighbors=5)\n",
        "knn_retweets.fit(X_train, y_train_retweets)\n",
        "\n",
        "# Predict on the testing set for retweets\n",
        "y_pred_retweets = knn_retweets.predict(X_test)\n",
        "\n",
        "# Train the KNN model for likes\n",
        "knn_likes = KNeighborsRegressor(n_neighbors=5)\n",
        "knn_likes.fit(X_train, y_train_likes)\n",
        "\n",
        "# Predict on the testing set for likes\n",
        "y_pred_likes = knn_likes.predict(X_test)\n",
        "\n",
        "# Train the KNN model for replies\n",
        "knn_replies = KNeighborsRegressor(n_neighbors=5)\n",
        "knn_replies.fit(X_train, y_train_replies)\n",
        "\n",
        "# Predict on the testing set for replies\n",
        "y_pred_replies = knn_replies.predict(X_test)\n",
        "\n",
        "# Visualize the predictions\n",
        "plt.figure(figsize=(12, 4))\n",
        "\n",
        "# Plot for retweets\n",
        "plt.subplot(131)\n",
        "plt.scatter(y_test_retweets, y_pred_retweets)\n",
        "plt.xlabel('Actual Retweets')\n",
        "plt.ylabel('Predicted Retweets')\n",
        "plt.title('Retweets')\n",
        "\n",
        "# Plot for likes\n",
        "plt.subplot(132)\n",
        "plt.scatter(y_test_likes, y_pred_likes)\n",
        "plt.xlabel('Actual Likes')\n",
        "plt.ylabel('Predicted Likes')\n",
        "plt.title('Likes')\n",
        "\n",
        "# Plot for replies\n",
        "plt.subplot(133)\n",
        "plt.scatter(y_test_replies, y_pred_replies)\n",
        "plt.xlabel('Actual Replies')\n",
        "plt.ylabel('Predicted Replies')\n",
        "plt.title('Replies')\n",
        "\n",
        "plt.tight_layout()\n",
        "plt.show()\n"
      ],
      "metadata": {
        "id": "fDswX5ZB9lfk",
        "outputId": "6db21edb-b3fe-49ca-9a21-f0f2b4ac2b00",
        "colab": {
          "base_uri": "https://localhost:8080/",
          "height": 286
        }
      },
      "execution_count": 5,
      "outputs": [
        {
          "output_type": "display_data",
          "data": {
            "text/plain": [
              "<Figure size 1200x400 with 3 Axes>"
            ],
            "image/png": "[encoded data removed]"
          },
          "metadata": {}
        }
      ]
    },
    {
      "cell_type": "code",
      "source": [],
      "metadata": {
        "id": "PJQiVRYv9liq"
      },
      "execution_count": null,
      "outputs": []
    },
    {
      "cell_type": "code",
      "source": [],
      "metadata": {
        "id": "mz3z9o8u9llg"
      },
      "execution_count": null,
      "outputs": []
    }
  ]
}